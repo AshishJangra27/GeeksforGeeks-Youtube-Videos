{
 "cells": [
  {
   "cell_type": "code",
   "execution_count": 13,
   "id": "798eafa0",
   "metadata": {},
   "outputs": [],
   "source": [
    "import matplotlib.pyplot as plt\n",
    "\n",
    "a = [1,1,1,1,1]\n",
    "b = [2,2,2,2,2]\n",
    "c = [3,3,3,3,3]\n",
    "d = [4,4,4,4,4]\n",
    "e = [5,5,5,5,5]\n",
    " \n",
    "x = [1,2,3,4,5]"
   ]
  },
  {
   "cell_type": "code",
   "execution_count": 24,
   "id": "42b3f023",
   "metadata": {},
   "outputs": [
    {
     "data": {
      "image/png": "[encoded data removed]",
      "text/plain": [
       "<Figure size 432x288 with 1 Axes>"
      ]
     },
     "metadata": {
      "needs_background": "light"
     },
     "output_type": "display_data"
    }
   ],
   "source": [
    "plt.plot(x,a, alpha = .1, color = 'b', linewidth = 5)\n",
    "plt.plot(x,b, alpha = .3, color = 'b', linewidth = 5)\n",
    "plt.plot(x,c, alpha = .5, color = 'b', linewidth = 5)\n",
    "plt.plot(x,d, alpha = .7, color = 'b', linewidth = 5)\n",
    "plt.plot(x,e, alpha = .9, color = 'b', linewidth = 5)\n",
    "\n",
    "plt.show()"
   ]
  },
  {
   "cell_type": "code",
   "execution_count": null,
   "id": "c1d091b5",
   "metadata": {},
   "outputs": [],
   "source": []
  }
 ],
 "metadata": {
  "kernelspec": {
   "display_name": "Python 3 (ipykernel)",
   "language": "python",
   "name": "python3"
  },
  "language_info": {
   "codemirror_mode": {
    "name": "ipython",
    "version": 3
   },
   "file_extension": ".py",
   "mimetype": "text/x-python",
   "name": "python",
   "nbconvert_exporter": "python",
   "pygments_lexer": "ipython3",
   "version": "3.9.7"
  }
 },
 "nbformat": 4,
 "nbformat_minor": 5
}
